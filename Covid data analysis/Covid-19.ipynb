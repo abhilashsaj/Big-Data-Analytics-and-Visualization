{
 "cells": [
  {
   "cell_type": "markdown",
   "metadata": {},
   "source": [
    "# Pearson Correlation on COVID-19 Data"
   ]
  },
  {
   "cell_type": "markdown",
   "metadata": {},
   "source": [
    "Ministry of Health and Family Welfare, Government of India, wanted to look at the relationship between the number of COVID-19 confirmd cases and the number of deaths associated with it. Use the attached csv file provided by WHO and do the following;"
   ]
  },
  {
   "cell_type": "markdown",
   "metadata": {},
   "source": [
    "#### Research Question 1:\n",
    "\n",
    "Is there a relationship between the number of confirmed cases and the number of deaths related to COVID-19?Hypothesis:   The 'Null Hypothesis' might be:\n",
    "\n",
    "    H0: There is no correlation between the number of confirmed cases and the number of deaths (equivalent to saying r = 0)  \n",
    "\n",
    "And an 'Alternative Hypothesis' might be:\n",
    "\n",
    "    H1: There is a correlation between the number of confirmed cases and the number of deaths (equivalent to saying r ≠ 0),"
   ]
  },
  {
   "cell_type": "code",
   "execution_count": 1,
   "metadata": {},
   "outputs": [],
   "source": [
    "import pandas as pd\n",
    "import numpy as np"
   ]
  },
  {
   "cell_type": "code",
   "execution_count": 3,
   "metadata": {},
   "outputs": [],
   "source": [
    "df = pd.read_csv(\"Covid-19_Data_WHO.csv\")"
   ]
  },
  {
   "cell_type": "markdown",
   "metadata": {},
   "source": [
    "H0: There is no correlation between the number of confirmed cases and the number of deaths (equivalent to saying r = 0)  \n",
    "H1: There is a correlation between the number of confirmed cases and the number of deaths (equivalent to saying r ≠ 0),"
   ]
  },
  {
   "cell_type": "code",
   "execution_count": 5,
   "metadata": {},
   "outputs": [
    {
     "data": {
      "text/plain": [
       "0.9995516217455819"
      ]
     },
     "execution_count": 5,
     "metadata": {},
     "output_type": "execute_result"
    }
   ],
   "source": [
    "r = df['Cumulative Confirmed'].corr(df['Cumulative Deaths'])"
   ]
  },
  {
   "cell_type": "markdown",
   "metadata": {},
   "source": [
    "r ≠ 0\n",
    "\n",
    "H1 is true, there is a correlation between the number of confirmed cases and the number of deaths"
   ]
  },
  {
   "cell_type": "markdown",
   "metadata": {},
   "source": [
    "#### Research Question 2:\n",
    "\n",
    "Can we apply Bayes thorem here and do the same? If so, explain the various steps to obtain the result."
   ]
  },
  {
   "cell_type": "code",
   "execution_count": null,
   "metadata": {},
   "outputs": [],
   "source": []
  }
 ],
 "metadata": {
  "kernelspec": {
   "display_name": "Python 3",
   "language": "python",
   "name": "python3"
  },
  "language_info": {
   "codemirror_mode": {
    "name": "ipython",
    "version": 3
   },
   "file_extension": ".py",
   "mimetype": "text/x-python",
   "name": "python",
   "nbconvert_exporter": "python",
   "pygments_lexer": "ipython3",
   "version": "3.7.1"
  }
 },
 "nbformat": 4,
 "nbformat_minor": 2
}
